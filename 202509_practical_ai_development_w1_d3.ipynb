{
  "cells": [
    {
      "cell_type": "markdown",
      "metadata": {
        "id": "view-in-github",
        "colab_type": "text"
      },
      "source": [
        "<a href=\"https://colab.research.google.com/github/ahpoise/ahpoise/blob/main/202509_practical_ai_development_w1_d3.ipynb\" target=\"_parent\"><img src=\"https://colab.research.google.com/assets/colab-badge.svg\" alt=\"Open In Colab\"/></a>"
      ]
    },
    {
      "cell_type": "code",
      "execution_count": null,
      "metadata": {
        "cellView": "form",
        "id": "dJjVF638UJT4"
      },
      "outputs": [],
      "source": [
        "#@title Setup better response formatting (adds line wrap)\n",
        "from IPython.display import HTML, display\n",
        "\n",
        "def set_css():\n",
        "  display(HTML('''\n",
        "  <style>\n",
        "    pre {\n",
        "        white-space: pre-wrap;\n",
        "    }\n",
        "  </style>\n",
        "  '''))\n",
        "get_ipython().events.register('pre_run_cell', set_css)"
      ]
    },
    {
      "cell_type": "code",
      "execution_count": null,
      "metadata": {
        "colab": {
          "base_uri": "https://localhost:8080/",
          "height": 17
        },
        "id": "O4JSHMJWUQ1q",
        "outputId": "17c3d63e-95ff-461c-ea24-8394a68cdaac"
      },
      "outputs": [
        {
          "output_type": "display_data",
          "data": {
            "text/plain": [
              "<IPython.core.display.HTML object>"
            ],
            "text/html": [
              "\n",
              "  <style>\n",
              "    pre {\n",
              "        white-space: pre-wrap;\n",
              "    }\n",
              "  </style>\n",
              "  "
            ]
          },
          "metadata": {}
        }
      ],
      "source": [
        "pip install --quiet openai tiktoken"
      ]
    },
    {
      "cell_type": "code",
      "execution_count": null,
      "metadata": {
        "colab": {
          "base_uri": "https://localhost:8080/",
          "height": 17
        },
        "id": "8Nrj-CaIbIUH",
        "outputId": "5646b66c-2b41-4127-d764-55ee7959bf50"
      },
      "outputs": [
        {
          "output_type": "display_data",
          "data": {
            "text/plain": [
              "<IPython.core.display.HTML object>"
            ],
            "text/html": [
              "\n",
              "  <style>\n",
              "    pre {\n",
              "        white-space: pre-wrap;\n",
              "    }\n",
              "  </style>\n",
              "  "
            ]
          },
          "metadata": {}
        }
      ],
      "source": [
        "import os\n",
        "from openai import OpenAI\n",
        "from google.colab import userdata\n",
        "\n",
        "client = OpenAI(\n",
        "    api_key=userdata.get(\"OPENAI_API_KEY\"),\n",
        ")\n",
        "\n",
        "model=\"gpt-4o-mini\"\n",
        "# model=\"o4-mini\"\n",
        "\n",
        "# user_input = \"Blue\"\n",
        "user_input = \"Once upon a time, a world existed where people\""
      ]
    },
    {
      "cell_type": "markdown",
      "metadata": {
        "id": "qYzy-lv3UUTv"
      },
      "source": [
        "# Tokenization\n",
        "\n",
        "[OpenaAI Tiktoken](https://github.com/openai/tiktoken)\\\n",
        "[PyPI package](https://pypi.org/project/tiktoken/)"
      ]
    },
    {
      "cell_type": "code",
      "execution_count": null,
      "metadata": {
        "colab": {
          "base_uri": "https://localhost:8080/",
          "height": 285
        },
        "id": "mKbk1ZeYUU7S",
        "outputId": "97b88cbc-adcd-41d9-9933-46afe28b8526"
      },
      "outputs": [
        {
          "output_type": "display_data",
          "data": {
            "text/plain": [
              "<IPython.core.display.HTML object>"
            ],
            "text/html": [
              "\n",
              "  <style>\n",
              "    pre {\n",
              "        white-space: pre-wrap;\n",
              "    }\n",
              "  </style>\n",
              "  "
            ]
          },
          "metadata": {}
        },
        {
          "output_type": "stream",
          "name": "stdout",
          "text": [
            "encoded text: [18049, 7557, 261, 1058, 11, 261, 2375, 49030, 1919, 1665]\n",
            "decoded text: Once upon a time, a world existed where people\n",
            "number of tokens: 10\n",
            "\n",
            "\n",
            "18049 - Once\n",
            "7557 -  upon\n",
            "261 -  a\n",
            "1058 -  time\n",
            "11 - ,\n",
            "261 -  a\n",
            "2375 -  world\n",
            "49030 -  existed\n",
            "1919 -  where\n",
            "1665 -  people\n"
          ]
        }
      ],
      "source": [
        "import tiktoken\n",
        "\n",
        "# Using the tokenization specifically used for model gpt-4o\n",
        "encoder = tiktoken.encoding_for_model(model)\n",
        "encodedText = encoder.encode(user_input)\n",
        "\n",
        "print(\"encoded text:\", encodedText)\n",
        "print(\"decoded text:\", encoder.decode(encodedText))\n",
        "print(\"number of tokens:\", len(encodedText))\n",
        "print('\\n')\n",
        "\n",
        "for tokenId in encodedText:\n",
        "  print(f\"{tokenId} - {encoder.decode([tokenId])}\")"
      ]
    },
    {
      "cell_type": "markdown",
      "metadata": {
        "id": "zJzhJ2W0bh8D"
      },
      "source": [
        "# Embedding"
      ]
    },
    {
      "cell_type": "code",
      "execution_count": null,
      "metadata": {
        "id": "L9PUBgzYamlN"
      },
      "outputs": [],
      "source": [
        "response = client.embeddings.create(\n",
        "    input=user_input,\n",
        "    model=\"text-embedding-3-large\"\n",
        ")\n",
        "\n",
        "embedding = response.data[0].embedding\n",
        "\n",
        "\n",
        "print(\"Input: \", user_input)\n",
        "print('\\n')\n",
        "print(embedding)\n",
        "print('\\n')\n",
        "print(\"Length: \", len(embedding))"
      ]
    },
    {
      "cell_type": "markdown",
      "metadata": {
        "id": "qUcTLurjPKst"
      },
      "source": [
        "# Request Parameters\n",
        "\n",
        "Some also usable in OpenAI playground"
      ]
    },
    {
      "cell_type": "code",
      "source": [
        "response = client.responses.create(\n",
        "    model=model,\n",
        "    input=user_input,\n",
        ")\n",
        "\n",
        "response.output[0].content[0].text"
      ],
      "metadata": {
        "colab": {
          "base_uri": "https://localhost:8080/",
          "height": 143
        },
        "id": "3btuz1dth8OW",
        "outputId": "e8025d40-c53a-46a1-8885-d36bf0c0b58d"
      },
      "execution_count": null,
      "outputs": [
        {
          "output_type": "display_data",
          "data": {
            "text/plain": [
              "<IPython.core.display.HTML object>"
            ],
            "text/html": [
              "\n",
              "  <style>\n",
              "    pre {\n",
              "        white-space: pre-wrap;\n",
              "    }\n",
              "  </style>\n",
              "  "
            ]
          },
          "metadata": {}
        },
        {
          "output_type": "execute_result",
          "data": {
            "text/plain": [
              "'Once upon a time, a world existed where people communicated not with words, but through colors and sounds. In this enchanting realm, each emotion emitted a distinct hue, and every thought resonated with a unique melody. Joy shimmered in vibrant yellows, sadness dripped in deep blues, while anger crackled with fiery reds.\\n\\nThe inhabitants, known as the Chromalites, wore garments woven from the threads of their emotions. Each day, they gathered in the Luminary Square, where the vibrant display of color and sound created a symphony unlike any other. In this space, disputes were resolved by blending colors, forming new shades that represented compromise and understanding.\\n\\nHowever, one day, a mysterious figure cloaked in grey arrived. This stranger, known as the Dull, had the ability to sap colors and silence melodies, leaving the Chromalites in despair. A once bright square turned muted, and the joyous expressions faded as fear spread through the air like a fog.\\n\\nDetermined to restore their world, a group of brave Chromalites embarked on a quest to confront the Dull. They traveled through Colorwood Forest, where vibrant flora had lost their luster and echoes of silent songs lingered. With each challenge, they learned to harness their emotions more deeply, discovering hidden shades of courage, compassion, and creativity.\\n\\nFinally, they stood before the Dull, who revealed their own sorrow: an inability to feel the joy of color and sound. Instead of battling, the Chromalites offered their radiant hues and harmonious melodies, sharing their vibrant world.\\n\\nAs they did, the Dull began to transform, the grey cloak slowly melting away to reveal shimmering shades beneath. With tears of gratitude, they joined the Chromalites, awakening the once-muted landscape with a brilliant display of colors. The harmony returned, and they all celebrated together, embracing the beauty of emotions once lost.\\n\\nFrom that day on, the Chromalites learned that not only was unity their strength, but sharing their emotions and stories could heal even the deepest wounds. And in their world, where colors and sounds danced together, everyone became a part of the ever-evolving masterpiece that celebrated life in all its vibrant shades.'"
            ],
            "application/vnd.google.colaboratory.intrinsic+json": {
              "type": "string"
            }
          },
          "metadata": {},
          "execution_count": 14
        }
      ]
    },
    {
      "cell_type": "markdown",
      "source": [
        "## Max Output Tokens\n",
        "\n",
        "Default: unlimited, up to the model’s maximum context window.\n",
        "For reasoning models, it’s recommended to reserve ~25k tokens for hidden reasoning until you understand how many reasoning tokens your use case consumes.\n",
        "\n"
      ],
      "metadata": {
        "id": "qRwgRbr2A4Rt"
      }
    },
    {
      "cell_type": "code",
      "source": [
        "def generateWithMaxTokens(maxTokens):\n",
        "    response = client.responses.create(\n",
        "        model=model,\n",
        "        input=user_input,\n",
        "        max_output_tokens=maxTokens\n",
        "    )\n",
        "    return response.output[0].content[0].text\n",
        "\n",
        "for maxTokens in [16, 50, 100]:\n",
        "    print(\"-\" * 80)\n",
        "    print(f\"Max Tokens: {maxTokens}\")\n",
        "    print(f\"Generated Text: {generateWithMaxTokens(maxTokens)}\")"
      ],
      "metadata": {
        "colab": {
          "base_uri": "https://localhost:8080/",
          "height": 267
        },
        "id": "vFPt95ZDAniJ",
        "outputId": "a1a65f04-fcd5-4015-c452-3c9de8a2fb5d"
      },
      "execution_count": null,
      "outputs": [
        {
          "output_type": "display_data",
          "data": {
            "text/plain": [
              "<IPython.core.display.HTML object>"
            ],
            "text/html": [
              "\n",
              "  <style>\n",
              "    pre {\n",
              "        white-space: pre-wrap;\n",
              "    }\n",
              "  </style>\n",
              "  "
            ]
          },
          "metadata": {}
        },
        {
          "output_type": "stream",
          "name": "stdout",
          "text": [
            "--------------------------------------------------------------------------------\n",
            "Max Tokens: 16\n",
            "Generated Text: Once upon a time, a world existed where people communicated not through words, but\n",
            "--------------------------------------------------------------------------------\n",
            "Max Tokens: 50\n",
            "Generated Text: Once upon a time, a world existed where people lived in harmony with nature. In this land, towering trees whispered ancient secrets, rivers sparkled like diamonds, and mountains stood as wise guardians of the valleys below. The sky was painted in hues of\n",
            "--------------------------------------------------------------------------------\n",
            "Max Tokens: 100\n",
            "Generated Text: Once upon a time, a world existed where people communicated not with words, but with colors. Each emotion they felt was expressed as a vibrant hue, painting the air around them with shimmering shades. Joy sparkled in golden yellows, sorrow flowed like deep blues, and love radiated in soft pinks.\n",
            "\n",
            "In this world lived a young girl named Lira. Lira had a gift; she could see not only the colors others emitted but also the hidden shades within them—the muted tones of fear\n"
          ]
        }
      ]
    },
    {
      "cell_type": "markdown",
      "source": [
        "## Text Format\n",
        "\n",
        "Default: text\n",
        "\n",
        "Configuration options for a text response from the model. Can be plain text or structured JSON data."
      ],
      "metadata": {
        "id": "U_k_dhev9BZd"
      }
    },
    {
      "cell_type": "code",
      "source": [
        "def generateWithFormat(format):\n",
        "    response = client.responses.create(\n",
        "        model=model,\n",
        "        input=user_input,\n",
        "        text=format,\n",
        "        max_output_tokens=50\n",
        "    )\n",
        "    return response.output[0].content[0].text\n",
        "\n",
        "for format in [\n",
        "    {\"format\": {\"type\": \"text\"}},\n",
        "    # {\"format\": {\"type\": \"json_object\"}},\n",
        "    {\n",
        "      \"format\": {\n",
        "        \"type\": \"json_schema\",\n",
        "        \"name\": \"my_schema\",\n",
        "        \"schema\": {\n",
        "          \"type\": \"object\",\n",
        "          \"properties\": {\n",
        "              \"answer\": {\"type\": \"string\"}\n",
        "          },\n",
        "          \"required\": [\"answer\"],\n",
        "          \"additionalProperties\": False\n",
        "        }\n",
        "      }\n",
        "    }, ]:\n",
        "    print(\"-\" * 80)\n",
        "    print(f\"Format: {format}\")\n",
        "    print(f\"Generated Text: {generateWithFormat(format)}\")"
      ],
      "metadata": {
        "colab": {
          "base_uri": "https://localhost:8080/",
          "height": 178
        },
        "id": "Vv5mYx_U9ARN",
        "outputId": "1e9355cb-b00d-4688-fcfc-18470be5f8bb"
      },
      "execution_count": null,
      "outputs": [
        {
          "output_type": "display_data",
          "data": {
            "text/plain": [
              "<IPython.core.display.HTML object>"
            ],
            "text/html": [
              "\n",
              "  <style>\n",
              "    pre {\n",
              "        white-space: pre-wrap;\n",
              "    }\n",
              "  </style>\n",
              "  "
            ]
          },
          "metadata": {}
        },
        {
          "output_type": "stream",
          "name": "stdout",
          "text": [
            "--------------------------------------------------------------------------------\n",
            "Format: {'format': {'type': 'text'}}\n",
            "Generated Text: lived in harmony with nature and each other. In this enchanting realm, lush forests stretched endlessly, vibrant flowers bloomed in every color imaginable, and rivers sparkled like diamonds under the sun. The people of this world had a profound connection to the\n",
            "--------------------------------------------------------------------------------\n",
            "Format: {'format': {'type': 'json_schema', 'name': 'my_schema', 'schema': {'type': 'object', 'properties': {'answer': {'type': 'string'}}, 'required': ['answer'], 'additionalProperties': False}}}\n",
            "Generated Text: {\"answer\":\"had the ability to communicate with nature. The trees whispered secrets in the wind, rivers sang melodies, and animals shared their wisdom with the villagers. This unique connection allowed the people to live in harmony with their surroundings.\\n\\nIn this\n"
          ]
        }
      ]
    },
    {
      "cell_type": "markdown",
      "source": [],
      "metadata": {
        "id": "TMXXmfza8_wn"
      }
    },
    {
      "cell_type": "markdown",
      "metadata": {
        "id": "MgNuspxqSnxz"
      },
      "source": [
        "## Temperature\n",
        "\n",
        "Default: 1\n",
        "\n",
        "Higher values will make the output more random, while lower values will make it more focused and deterministic."
      ]
    },
    {
      "cell_type": "code",
      "execution_count": null,
      "metadata": {
        "colab": {
          "base_uri": "https://localhost:8080/",
          "height": 374
        },
        "id": "S-5Ut7edPMe0",
        "outputId": "5ffab2a9-ab58-4aaa-cfea-c460d0c0d419"
      },
      "outputs": [
        {
          "output_type": "display_data",
          "data": {
            "text/plain": [
              "<IPython.core.display.HTML object>"
            ],
            "text/html": [
              "\n",
              "  <style>\n",
              "    pre {\n",
              "        white-space: pre-wrap;\n",
              "    }\n",
              "  </style>\n",
              "  "
            ]
          },
          "metadata": {}
        },
        {
          "output_type": "stream",
          "name": "stdout",
          "text": [
            "--------------------------------------------------------------------------------\n",
            "Temperature: 0\n",
            "Generated Text: Once upon a time, a world existed where people lived in harmony with nature, surrounded by lush forests, sparkling rivers, and towering mountains. In this land, every individual possessed a unique gift that connected them to the elements—some could summon the wind\n",
            "--------------------------------------------------------------------------------\n",
            "Temperature: 0.5\n",
            "Generated Text: Once upon a time, a world existed where people lived in harmony with nature. In this vibrant land, lush forests thrived alongside crystal-clear rivers, and mountains stood tall, their peaks kissed by the clouds. The inhabitants, known as the Eldori\n",
            "--------------------------------------------------------------------------------\n",
            "Temperature: 1\n",
            "Generated Text: Once upon a time, a world existed where people lived in harmony with nature. In this enchanting land, towering trees whispered secrets to each other, and rivers sparkled with laughter as they flowed through lush valleys. The inhabitants, known as the Elderi\n",
            "--------------------------------------------------------------------------------\n",
            "Temperature: 1.5\n",
            "Generated Text: lived in harmony with nature and the mystical creatures that inhabited their surroundings. In this world, lush green forests resonated with the songs of birds, crystal-clear rivers flowed with laughter, and towering mountains whispered ancient secrets. The townspeople possessed a rare\n",
            "--------------------------------------------------------------------------------\n",
            "Temperature: 2\n",
            "Generated Text: lived harmoniously alongside nature, thriving in vibrant communities. Every morning, serpentine rivers glittered under the freely given light of the sunset-shells hanging diamond-wing comma chandelier-growing rainbow she Поз trouver beer alın dağı לק(k predisgingo saw mellan\n"
          ]
        }
      ],
      "source": [
        "def generateWithTemp(temp):\n",
        "    response = client.responses.create(\n",
        "        model=model,\n",
        "        input=user_input,\n",
        "        max_output_tokens=50,\n",
        "        temperature=temp\n",
        "    )\n",
        "    return response.output[0].content[0].text\n",
        "\n",
        "for temp in [0, 0.5, 1, 1.5, 2]:\n",
        "    print(\"-\" * 80)\n",
        "    print(f\"Temperature: {temp}\")\n",
        "    print(f\"Generated Text: {generateWithTemp(temp)}\")"
      ]
    },
    {
      "cell_type": "markdown",
      "metadata": {
        "id": "33Fm7n0DS-0G"
      },
      "source": [
        "## Top P\n",
        "\n",
        "Default: 1\n",
        "\n",
        "The model considers the results of the tokens with top_p probability mass. So 0.1 means only the tokens comprising the top 10% probability mass are considered.\n",
        "Not recommended to use in combination with temperature."
      ]
    },
    {
      "cell_type": "code",
      "execution_count": null,
      "metadata": {
        "colab": {
          "base_uri": "https://localhost:8080/",
          "height": 231
        },
        "id": "KuVqhMe7YSYO",
        "outputId": "7d6d0895-cdad-4fb7-cf2c-ea4764f09f28"
      },
      "outputs": [
        {
          "output_type": "display_data",
          "data": {
            "text/plain": [
              "<IPython.core.display.HTML object>"
            ],
            "text/html": [
              "\n",
              "  <style>\n",
              "    pre {\n",
              "        white-space: pre-wrap;\n",
              "    }\n",
              "  </style>\n",
              "  "
            ]
          },
          "metadata": {}
        },
        {
          "output_type": "stream",
          "name": "stdout",
          "text": [
            "--------------------------------------------------------------------------------\n",
            "Top-P: 0.1\n",
            "Generated Text: Once upon a time, a world existed where people lived in harmony with nature, surrounded by lush forests, sparkling rivers, and towering mountains. In this land, every village was connected by winding paths that glimmered with the magic of the earth.\n",
            "--------------------------------------------------------------------------------\n",
            "Top-P: 0.5\n",
            "Generated Text: Once upon a time, a world existed where people lived in harmony with nature. In this land, towering trees whispered secrets to the wind, and rivers sparkled like diamonds under the sun. The inhabitants, known as the Eldara, had a unique\n",
            "--------------------------------------------------------------------------------\n",
            "Top-P: 1\n",
            "Generated Text: Once upon a time, a world existed where people communicated through music rather than words. Each person's voice was a unique melody, and conversations were vibrant symphonies. Joyful notes danced through the air during happy moments, while softer, melancholic chords\n"
          ]
        }
      ],
      "source": [
        "def generateWithFP(selected_top_p):\n",
        "    response = client.responses.create(\n",
        "        model=model,\n",
        "        input=user_input,\n",
        "        max_output_tokens=50,\n",
        "        top_p=selected_top_p\n",
        "    )\n",
        "    return response.output[0].content[0].text\n",
        "\n",
        "for selected_top_p in [0.1, 0.5, 1]:\n",
        "  print(\"-\" * 80)\n",
        "  print(f\"Top-P: {selected_top_p}\")\n",
        "  print(f\"Generated Text: {generateWithFP(selected_top_p)}\")"
      ]
    },
    {
      "cell_type": "markdown",
      "source": [
        "# Request Parameters - new model(s)\n",
        "\n",
        "Some also usable in OpenAI playground"
      ],
      "metadata": {
        "id": "A-KS_Hx7XQa2"
      }
    },
    {
      "cell_type": "markdown",
      "source": [
        "## Reasoning Effort\n",
        "\n",
        "Default: medium\n",
        "\n",
        "Selects reasoning effort. Reducing reasoning effort can result in faster responses and fewer tokens used on reasoning in a response."
      ],
      "metadata": {
        "id": "rMPdN8craITG"
      }
    },
    {
      "cell_type": "code",
      "source": [
        "def customReasoning(selected_effort):\n",
        "    response = client.responses.create(\n",
        "        model=model,\n",
        "        input=\"How much wood would a woodchuck chuck?\",\n",
        "        reasoning={\n",
        "          \"effort\": selected_effort,\n",
        "        },\n",
        "    )\n",
        "    return response.output_text\n",
        "\n",
        "for selected_effort in [\"low\", \"medium\", \"high\"]:\n",
        "  print(\"-\" * 80)\n",
        "  print(f\"Effort: {selected_effort}\")\n",
        "  print(f\"Generated Text: {customReasoning(selected_effort)}\")"
      ],
      "metadata": {
        "colab": {
          "base_uri": "https://localhost:8080/",
          "height": 553
        },
        "id": "Ps5YfxmcX_Xm",
        "outputId": "87243255-3905-469c-ad62-eb259ed9d734"
      },
      "execution_count": null,
      "outputs": [
        {
          "output_type": "display_data",
          "data": {
            "text/plain": [
              "<IPython.core.display.HTML object>"
            ],
            "text/html": [
              "\n",
              "  <style>\n",
              "    pre {\n",
              "        white-space: pre-wrap;\n",
              "    }\n",
              "  </style>\n",
              "  "
            ]
          },
          "metadata": {}
        },
        {
          "output_type": "stream",
          "name": "stdout",
          "text": [
            "--------------------------------------------------------------------------------\n",
            "Effort: low\n",
            "Generated Text: A woodchuck would chuck as much wood as a woodchuck could chuck if a woodchuck could chuck wood.  \n",
            "\n",
            "(Joking aside, a 1988 estimate by wildlife biologist Richard Thomas put that “as much” at about 700 pounds, based on the volume of dirt a woodchuck moves when digging its burrow.)\n",
            "--------------------------------------------------------------------------------\n",
            "Effort: medium\n",
            "Generated Text: The traditional tongue-twister answer:\n",
            "“A woodchuck would chuck as much wood as a woodchuck could chuck if a woodchuck could chuck wood.”\n",
            "\n",
            "For a (semi-serious) “scientific” estimate:\n",
            "• In 1988 wildlife biologist Richard Thomas calculated that, by volume, the amount of earth a woodchuck moves when digging its burrow would equate to roughly 700 lb (≈320 kg) of wood.  \n",
            "• So, if a woodchuck really did “chuck” wood instead of dirt, it might manage on the order of 700 pounds in a day.\n",
            "--------------------------------------------------------------------------------\n",
            "Effort: high\n",
            "Generated Text: Here’s the classic tongue-twister answer plus a fun “scientific” estimate:\n",
            "\n",
            "1. Traditional (rhyming) answer  \n",
            "   “A woodchuck would chuck as much wood as a woodchuck could chuck if a woodchuck could chuck wood.”\n",
            "\n",
            "2. A playful “scientific” estimate  \n",
            "   • In 1988 wildlife biologist Richard Thomas calculated that the volume of earth a woodchuck moves when digging a burrow—about 35 ft³—would weigh roughly 700 lb (≈318 kg) if it were wood.  \n",
            "   • So, if a woodchuck really could chuck wood, you might say “about 700 pounds on a good day.”\n",
            "\n",
            "3. Reality check  \n",
            "   • Actual woodchucks (groundhogs) don’t chuck wood—they dig soil.  \n",
            "   • Their “chucking” energy goes into moving dirt to build burrows, not splitting logs.\n"
          ]
        }
      ]
    },
    {
      "cell_type": "markdown",
      "source": [
        "## Tools\n",
        "\n",
        "An array of tools the model may call while generating a response."
      ],
      "metadata": {
        "id": "_ChGe3hpgDig"
      }
    },
    {
      "cell_type": "code",
      "source": [
        "response = client.responses.create(\n",
        "    model=model,\n",
        "    tools=[{ \"type\": \"web_search_preview\" }],\n",
        "    input=\"What was a positive news story from today?\",\n",
        ")\n",
        "\n",
        "\n",
        "print(f\"Effort: {response.output_text}\")\n",
        "# print(\"-\" * 80)\n",
        "# print(f\"Generated Text: {customReasoning(selected_effort)}\")\n"
      ],
      "metadata": {
        "colab": {
          "base_uri": "https://localhost:8080/",
          "height": 1000
        },
        "id": "VhnubzsFgYBm",
        "outputId": "d5903741-22c2-4480-e5c5-96511982c227"
      },
      "execution_count": null,
      "outputs": [
        {
          "output_type": "display_data",
          "data": {
            "text/plain": [
              "<IPython.core.display.HTML object>"
            ],
            "text/html": [
              "\n",
              "  <style>\n",
              "    pre {\n",
              "        white-space: pre-wrap;\n",
              "    }\n",
              "  </style>\n",
              "  "
            ]
          },
          "metadata": {}
        },
        {
          "output_type": "stream",
          "name": "stdout",
          "text": [
            "Effort: **Introduction**  \n",
            "On September 25, 2025, NASA and the Indian Space Research Organisation (ISRO) unveiled the first radar images from their joint Earth‐mapping satellite, NISAR (NASA–ISRO Synthetic Aperture Radar). These inaugural images—showcasing the rugged coastline of Maine and the patchwork farmland of Minnesota—mark a pivotal milestone in a $1.3 billion mission designed to monitor minute changes in Earth’s surface for applications ranging from disaster response to ecosystem management ([apnews.com](https://apnews.com/article/73f610a8e03fa544db8826b170ce0fcc?utm_source=openai)). The high‐resolution imagery was acquired nearly two months after NISAR’s launch on July 30, 2025, into a near‐polar Sun‐synchronous orbit at an altitude of approximately 464 miles (747 km) ([apnews.com](https://apnews.com/article/73f610a8e03fa544db8826b170ce0fcc?utm_source=openai)).\n",
            "\n",
            "---\n",
            "\n",
            "**Mission Objectives and Technical Specifications**  \n",
            "NISAR is the first spaceborne mission to carry dual‐frequency synthetic aperture radars—an L-band system contributed by NASA and an S-band system provided by ISRO. Operating in concert, these two radars can penetrate cloud cover and vegetation to detect ground motions as small as a few millimeters, enabling unprecedented monitoring of phenomena such as tectonic shifts, glacial movements, and wetland dynamics ([earthobservatory.nasa.gov](https://earthobservatory.nasa.gov/images/154617/advanced-us-india-radar-mission-lifts-off?utm_source=openai)). The satellite completes a global revisit of nearly all land and ice surfaces every 12 days, providing a continuous, uniform dataset for scientists and decision-makers worldwide ([nasa.gov](https://www.nasa.gov/missions/nisar/nasa-isro-radar-mission-to-provide-dynamic-view-of-forests-wetlands/?utm_source=openai)).\n",
            "\n",
            "---\n",
            "\n",
            "**International Collaboration and Launch**  \n",
            "The NISAR mission epitomizes deep U.S.–India cooperation. After more than a decade of joint development—during which NASA designed the L-band radar subsystem and ISRO constructed the satellite bus and S-band instrument—NISAR lifted off aboard ISRO’s Geosynchronous Satellite Launch Vehicle (GSLV Mk II) from the Satish Dhawan Space Centre on July 30, 2025 ([reuters.com](https://www.reuters.com/sustainability/climate-energy/india-launches-nasa-isro-satellite-track-climate-threats-space-2025-07-30/?utm_source=openai)). ISRO Chairman V. Narayanan confirmed the satellite’s precise insertion into its Sun-synchronous polar orbit, noting that this was GSLV’s first mission to such an orbit and a testament to the robustness of Indian launch capabilities ([nasa.gov](https://www.nasa.gov/news-release/nasa-isro-satellite-lifts-off-to-track-earths-changing-surfaces/?utm_source=openai)).\n",
            "\n",
            "---\n",
            "\n",
            "**Early Engineering Successes**  \n",
            "Shortly after launch, key engineering milestones were completed flawlessly. Seventeen days post-launch, the satellite’s 39-foot (12 m) umbrella-like antenna reflector successfully unfurled in orbit, a critical step that enables the radar instruments to transmit and receive microwave pulses with high fidelity ([jpl.nasa.gov](https://www.jpl.nasa.gov/news/giant-radar-antenna-reflector-on-nasa-isro-satellite-in-full-bloom?utm_source=openai)). NASA’s Earth Observatory highlighted this deployment as “record-breaking,” emphasizing that the reflector’s size and design are unmatched by any previous radar mission and essential for achieving the centimeter-scale surface sensitivity NISAR promises ([sciencedaily.com](https://www.sciencedaily.com/releases/2025/08/250817055320.htm?utm_source=openai)).\n",
            "\n",
            "---\n",
            "\n",
            "**First Radar Images: Maine and Minnesota**  \n",
            "The first radar images, released today, reveal striking detail: rugged granite outcrops and forested inlets along Maine’s rocky coast, and the neatly parcelled fields, farmsteads, and drainage networks of Minnesota’s agricultural heartland ([apnews.com](https://apnews.com/article/73f610a8e03fa544db8826b170ce0fcc?utm_source=openai)). Unlike optical cameras, NISAR’s radar can operate day or night and penetrate cloud cover, ensuring consistent data acquisition regardless of weather conditions. These initial snapshots serve as proof-of-concept for the mission’s operational capability ahead of full science operations set to begin in November 2025 ([apnews.com](https://apnews.com/article/73f610a8e03fa544db8826b170ce0fcc?utm_source=openai)).\n",
            "\n",
            "---\n",
            "\n",
            "**Applications for Disaster Response and Climate Science**  \n",
            "Once fully operational, NISAR will play a transformative role in natural hazard monitoring and environmental stewardship. By detecting millimeter-scale land deformations, it will enhance forecasting and response for earthquakes, volcanic eruptions, landslides, and flood events. Moreover, its ability to track seasonal and long-term changes in ice sheets and permafrost will provide critical data for understanding and mitigating the impacts of climate change on coastal communities and global sea-level rise ([nasa.gov](https://www.nasa.gov/missions/nisar/nasa-isro-radar-mission-to-provide-dynamic-view-of-forests-wetlands/?utm_source=openai)). Decision-makers in agriculture, infrastructure management, and conservation will also benefit from near-real-time insights into soil moisture, forest biomass changes, and wetland health.\n",
            "\n",
            "---\n",
            "\n",
            "**Leadership Perspectives and Future Outlook**  \n",
            "Karen St. Germain, director of NASA’s Earth Science Division, hailed the antenna deployment and first images as “a significant milestone in the capabilities of the satellite” that will “help inform decisions … for the benefit of global communities” ([jpl.nasa.gov](https://www.jpl.nasa.gov/news/giant-radar-antenna-reflector-on-nasa-isro-satellite-in-full-bloom?utm_source=openai)). With data products expected by late 2025, researchers anticipate rapid integration of NISAR outputs into early warning systems, infrastructure resilience planning, and carbon cycle modeling. By bridging national boundaries in service of planetary well-being, NISAR underscores the power of international collaboration to advance scientific frontiers and societal resilience.\n",
            "\n",
            "---\n",
            "\n",
            "**Conclusion**  \n",
            "The unveiling of NISAR’s first radar images on September 25, 2025, not only demonstrates the technical prowess achieved through NASA–ISRO partnership but also inaugurates a new era in precision Earth observation. As NISAR transitions into full science operations, its global, high-cadence radar coverage promises to revolutionize how humanity monitors and responds to natural hazards, tracks environmental change, and manages resources sustainably. The mission stands as a testament to international cooperation and a beacon of hope for leveraging space technology to better understand and protect our dynamic planet.\n"
          ]
        }
      ]
    }
  ],
  "metadata": {
    "colab": {
      "provenance": [],
      "collapsed_sections": [
        "33Fm7n0DS-0G",
        "-pl6VMwQYHEi",
        "VtXxzd9vZm2J",
        "fhj4O7GIW4qa",
        "zOMe6b3-MeT2"
      ],
      "include_colab_link": true
    },
    "kernelspec": {
      "display_name": "Python 3",
      "name": "python3"
    },
    "language_info": {
      "name": "python"
    }
  },
  "nbformat": 4,
  "nbformat_minor": 0
}